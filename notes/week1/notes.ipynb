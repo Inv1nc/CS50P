{
 "cells": [
  {
   "cell_type": "code",
   "execution_count": 2,
   "id": "84684689",
   "metadata": {
    "scrolled": true
   },
   "outputs": [
    {
     "name": "stdout",
     "output_type": "stream",
     "text": [
      "input a number: 69\n",
      "input is greater than 50\n"
     ]
    }
   ],
   "source": [
    "a = int(input(\"input a number: \"))\n",
    "if a < 50:\n",
    "    print(\"input is less than 50\")\n",
    "elif a == 50:\n",
    "    print(\"input is equal to 50\")\n",
    "else:\n",
    "    print(\"input is greater than 50\")"
   ]
  },
  {
   "cell_type": "code",
   "execution_count": 5,
   "id": "d7470408",
   "metadata": {},
   "outputs": [
    {
     "name": "stdout",
     "output_type": "stream",
     "text": [
      "enter your salary3\n",
      "i will go for saving\n"
     ]
    }
   ],
   "source": [
    "salary = int(input(\"enter your salary\"))\n",
    "if salary > 1000:\n",
    "    print(\"i will buy a car\")\n",
    "elif salary > 500:\n",
    "    print(\"i will go for bike\")\n",
    "elif salary > 100:\n",
    "    print(\"i will not buy anything\")\n",
    "else:\n",
    "    print(\"i will go for saving\")"
   ]
  },
  {
   "cell_type": "code",
   "execution_count": 7,
   "id": "2b5ff929",
   "metadata": {},
   "outputs": [
    {
     "name": "stdout",
     "output_type": "stream",
     "text": [
      "Enter your salary: 1142\n",
      "Yes\n",
      "True\n"
     ]
    }
   ],
   "source": [
    "salary = int(input(\"Enter your salary: \"))\n",
    "if salary > 10000:\n",
    "    print(\"enjoy\")\n",
    "    if True:\n",
    "        print(\"ur life\")\n",
    "else:\n",
    "    print(\"Yes\")\n",
    "    if True:\n",
    "        print(\"True\")\n",
    "    else:\n",
    "        print(\"False\")"
   ]
  },
  {
   "cell_type": "code",
   "execution_count": 8,
   "id": "4363e286",
   "metadata": {},
   "outputs": [
    {
     "name": "stdout",
     "output_type": "stream",
     "text": [
      "139942719521296\n",
      "139942719521296\n"
     ]
    }
   ],
   "source": [
    "a = 10\n",
    "b = 10\n",
    "print(id(a))\n",
    "print(id(b))"
   ]
  },
  {
   "cell_type": "code",
   "execution_count": 9,
   "id": "58db17f8",
   "metadata": {},
   "outputs": [
    {
     "name": "stdout",
     "output_type": "stream",
     "text": [
      "139942719521296\n",
      "139942719524592\n"
     ]
    }
   ],
   "source": [
    "a = 10\n",
    "b = 113\n",
    "print(id(a))\n",
    "print(id(b))"
   ]
  }
 ],
 "metadata": {
  "kernelspec": {
   "display_name": "Python 3 (ipykernel)",
   "language": "python",
   "name": "python3"
  },
  "language_info": {
   "codemirror_mode": {
    "name": "ipython",
    "version": 3
   },
   "file_extension": ".py",
   "mimetype": "text/x-python",
   "name": "python",
   "nbconvert_exporter": "python",
   "pygments_lexer": "ipython3",
   "version": "3.10.6"
  }
 },
 "nbformat": 4,
 "nbformat_minor": 5
}
